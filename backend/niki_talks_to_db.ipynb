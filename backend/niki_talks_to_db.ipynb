{
 "cells": [
  {
   "cell_type": "code",
   "execution_count": null,
   "id": "ab99ee7e",
   "metadata": {},
   "outputs": [],
   "source": [
    "import psycopg2                                                 \n",
    "from psycopg2.extras import RealDictCursor                          \n",
    "                                                            \n",
    "conn = psycopg2.connect(host='localhost', user='postgres',          \n",
    "password='Ember1808', database='baby_data')                         \n",
    "cursor = conn.cursor(cursor_factory=RealDictCursor)                 \n",
    "                                                            \n",
    "print('=== BABY DATA DATABASE STRUCTURE ===\\n')                     \n",
    "                                                            \n",
    "# Get all tables                                                    \n",
    "cursor.execute(\\\"\\\"\\\"                                               \n",
    "    SELECT table_name FROM information_schema.tables                \n",
    "    WHERE table_schema = 'public' AND table_type = 'BASE TABLE'     \n",
    "    ORDER BY table_name;                                            \n",
    "\\\"\\\"\\\")                                                             \n",
    "tables = cursor.fetchall()                                          \n",
    "                                                            \n",
    "for table in tables:                                                \n",
    "    table_name = table['table_name']                                \n",
    "    if table_name != 'alembic_version':  # Skip migration table     \n",
    "        print(f'📋 TABLE: {table_name.upper()}')                    \n",
    "        print('─' * 50)                                             \n",
    "                                                            \n",
    "        # Get column details                                        \n",
    "        cursor.execute(\\\"\\\"\\\"                                       \n",
    "            SELECT                                                  \n",
    "                column_name,                                        \n",
    "                data_type,                                          \n",
    "                is_nullable,                                        \n",
    "                column_default,                                     \n",
    "                character_maximum_length                            \n",
    "            FROM information_schema.columns                         \n",
    "            WHERE table_name = %s AND table_schema = 'public'       \n",
    "            ORDER BY ordinal_position;                              \n",
    "        \\\"\\\"\\\", (table_name,))                                      \n",
    "                                                            \n",
    "        columns = cursor.fetchall()                                 \n",
    "        for col in columns:                                         \n",
    "            nullable = '(NULL)' if col['is_nullable'] == 'YES' else \n",
    "'(NOT NULL)'                                                        \n",
    "            length = f'({col[\\\"character_maximum_length\\\"]})' if    \n",
    "col['character_maximum_length'] else ''                             \n",
    "            default = f' DEFAULT: {col[\\\"column_default\\\"]}' if     \n",
    "col['column_default'] else ''                                       \n",
    "            print(f'  • {col[\\\"column_name\\\"]:<20}                  \n",
    "{col[\\\"data_type\\\"]}{length} {nullable}{default}')                  \n",
    "                                                            \n",
    "        print()                                                     \n",
    "                                                            \n",
    "conn.close()   "
   ]
  }
 ],
 "metadata": {
  "kernelspec": {
   "display_name": "niki-claude-practice",
   "language": "python",
   "name": "python3"
  },
  "language_info": {
   "name": "python",
   "version": "3.13.7"
  }
 },
 "nbformat": 4,
 "nbformat_minor": 5
}

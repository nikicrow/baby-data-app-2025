{
 "cells": [
  {
   "cell_type": "markdown",
   "metadata": {},
   "source": [
    "# Baby Data API - Interactive Testing Notebook\n",
    "\n",
    "This notebook allows you to interact with your FastAPI backend and test all endpoints.\n",
    "\n",
    "**Make sure the backend server is running at http://localhost:8000**"
   ]
  },
  {
   "cell_type": "code",
   "execution_count": null,
   "metadata": {},
   "outputs": [],
   "source": [
    "import requests\n",
    "import json\n",
    "from datetime import datetime, date, timedelta\n",
    "from pprint import pprint\n",
    "\n",
    "# Base URL for the API\n",
    "BASE_URL = \"http://localhost:8000/api/v1\"\n",
    "\n",
    "# Helper function to print responses nicely\n",
    "def print_response(response):\n",
    "    print(f\"Status Code: {response.status_code}\")\n",
    "    if response.status_code < 400:\n",
    "        print(\"\\nResponse:\")\n",
    "        pprint(response.json())\n",
    "    else:\n",
    "        print(f\"Error: {response.text}\")\n",
    "    print(\"\\n\" + \"=\"*80 + \"\\n\")"
   ]
  },
  {
   "cell_type": "markdown",
   "metadata": {},
   "source": [
    "## 1. Test Server Health"
   ]
  },
  {
   "cell_type": "code",
   "execution_count": null,
   "metadata": {},
   "outputs": [],
   "source": [
    "# Check if server is running\n",
    "response = requests.get(\"http://localhost:8000/health\")\n",
    "print_response(response)"
   ]
  },
  {
   "cell_type": "markdown",
   "metadata": {},
   "source": [
    "## 2. Baby Profiles - Create & Manage"
   ]
  },
  {
   "cell_type": "code",
   "execution_count": null,
   "metadata": {},
   "outputs": [],
   "source": [
    "# Create a new baby profile\n",
    "baby_data = {\n",
    "    \"name\": \"Ember\",\n",
    "    \"date_of_birth\": \"2024-07-24\",\n",
    "    \"gender\": \"female\",\n",
    "    \"birth_weight\": 2.96,\n",
    "    \"birth_length\": 50,\n",
    "    \"birth_head_circumference\": 34.0,\n",
    "    \"timezone\": \"Australia/Sydney\",\n",
    "    \"notes\": \"Born healthy and happy!\"\n",
    "}\n",
    "\n",
    "response = requests.post(f\"{BASE_URL}/babies/\", json=baby_data)\n",
    "print_response(response)\n",
    "\n",
    "# Save the baby_id for later use\n",
    "if response.status_code == 201:\n",
    "    baby_id = response.json()[\"id\"]\n",
    "    print(f\"✅ Baby created with ID: {baby_id}\")\n",
    "    print(f\"Save this ID for future requests!\\n\")"
   ]
  },
  {
   "cell_type": "code",
   "execution_count": null,
   "metadata": {},
   "outputs": [],
   "source": [
    "# List all babies\n",
    "response = requests.get(f\"{BASE_URL}/babies/\")\n",
    "print_response(response)"
   ]
  },
  {
   "cell_type": "code",
   "execution_count": null,
   "metadata": {},
   "outputs": [],
   "source": [
    "# Get a specific baby by ID (replace with your baby_id from above)\n",
    "# baby_id = \"YOUR_BABY_ID_HERE\"  # Uncomment and paste your baby_id\n",
    "\n",
    "response = requests.get(f\"{BASE_URL}/babies/{baby_id}\")\n",
    "print_response(response)"
   ]
  },
  {
   "cell_type": "code",
   "execution_count": null,
   "metadata": {},
   "outputs": [],
   "source": [
    "# Update a baby profile\n",
    "update_data = {\n",
    "    \"notes\": \"Updated: Growing strong and healthy!\"\n",
    "}\n",
    "\n",
    "response = requests.put(f\"{BASE_URL}/babies/{baby_id}\", json=update_data)\n",
    "print_response(response)"
   ]
  },
  {
   "cell_type": "markdown",
   "metadata": {},
   "source": [
    "## 3. Feeding Sessions"
   ]
  },
  {
   "cell_type": "code",
   "execution_count": null,
   "metadata": {},
   "outputs": [],
   "source": [
    "# Create a breastfeeding session\n",
    "feeding_data = {\n",
    "    \"baby_id\": baby_id,\n",
    "    \"start_time\": datetime.now().isoformat(),\n",
    "    \"end_time\": (datetime.now() + timedelta(minutes=20)).isoformat(),\n",
    "    \"feeding_type\": \"BREAST\",\n",
    "    \"breast_started\": \"LEFT\",\n",
    "    \"left_breast_duration\": 12,\n",
    "    \"right_breast_duration\": 8,\n",
    "    \"notes\": \"Baby fed well\"\n",
    "}\n",
    "\n",
    "response = requests.post(f\"{BASE_URL}/feeding/\", json=feeding_data)\n",
    "print_response(response)\n",
    "\n",
    "if response.status_code == 201:\n",
    "    feeding_id = response.json()[\"id\"]\n",
    "    print(f\"✅ Feeding session created with ID: {feeding_id}\\n\")"
   ]
  },
  {
   "cell_type": "code",
   "execution_count": null,
   "metadata": {},
   "outputs": [],
   "source": [
    "# Create a bottle feeding session\n",
    "bottle_data = {\n",
    "    \"baby_id\": baby_id,\n",
    "    \"start_time\": datetime.now().isoformat(),\n",
    "    \"feeding_type\": \"BOTTLE\",\n",
    "    \"volume_offered_ml\": 120,\n",
    "    \"volume_consumed_ml\": 110,\n",
    "    \"formula_type\": \"Similac Pro-Advance\",\n",
    "    \"notes\": \"Took bottle well\"\n",
    "}\n",
    "\n",
    "response = requests.post(f\"{BASE_URL}/feeding/\", json=bottle_data)\n",
    "print_response(response)"
   ]
  },
  {
   "cell_type": "code",
   "execution_count": null,
   "metadata": {},
   "outputs": [],
   "source": [
    "# List all feeding sessions for a baby\n",
    "response = requests.get(f\"{BASE_URL}/feeding/\", params={\"baby_id\": baby_id})\n",
    "print_response(response)"
   ]
  },
  {
   "cell_type": "markdown",
   "metadata": {},
   "source": [
    "## 4. Sleep Sessions"
   ]
  },
  {
   "cell_type": "code",
   "execution_count": null,
   "metadata": {},
   "outputs": [],
   "source": [
    "# Create a sleep session\n",
    "sleep_data = {\n",
    "    \"baby_id\": baby_id,\n",
    "    \"sleep_start\": (datetime.now() - timedelta(hours=2)).isoformat(),\n",
    "    \"sleep_end\": datetime.now().isoformat(),\n",
    "    \"sleep_type\": \"NAP\",\n",
    "    \"location\": \"CRIB\",\n",
    "    \"sleep_quality\": \"GOOD\",\n",
    "    \"notes\": \"Napped peacefully\"\n",
    "}\n",
    "\n",
    "response = requests.post(f\"{BASE_URL}/sleep/\", json=sleep_data)\n",
    "print_response(response)\n",
    "\n",
    "if response.status_code == 201:\n",
    "    sleep_id = response.json()[\"id\"]\n",
    "    print(f\"✅ Sleep session created with ID: {sleep_id}\\n\")"
   ]
  },
  {
   "cell_type": "code",
   "execution_count": null,
   "metadata": {},
   "outputs": [],
   "source": [
    "# List all sleep sessions for a baby\n",
    "response = requests.get(f\"{BASE_URL}/sleep/\", params={\"baby_id\": baby_id})\n",
    "print_response(response)"
   ]
  },
  {
   "cell_type": "markdown",
   "metadata": {},
   "source": [
    "## 5. Diaper Events"
   ]
  },
  {
   "cell_type": "code",
   "execution_count": null,
   "metadata": {},
   "outputs": [],
   "source": [
    "# Create a diaper change event\n",
    "diaper_data = {\n",
    "    \"baby_id\": baby_id,\n",
    "    \"timestamp\": datetime.now().isoformat(),\n",
    "    \"has_urine\": True,\n",
    "    \"urine_volume\": \"MODERATE\",\n",
    "    \"has_stool\": True,\n",
    "    \"stool_consistency\": \"SOFT\",\n",
    "    \"stool_color\": \"YELLOW\",\n",
    "    \"diaper_type\": \"DISPOSABLE\",\n",
    "    \"notes\": \"Normal diaper change\"\n",
    "}\n",
    "\n",
    "response = requests.post(f\"{BASE_URL}/diaper/\", json=diaper_data)\n",
    "print_response(response)\n",
    "\n",
    "if response.status_code == 201:\n",
    "    diaper_id = response.json()[\"id\"]\n",
    "    print(f\"✅ Diaper event created with ID: {diaper_id}\\n\")"
   ]
  },
  {
   "cell_type": "code",
   "execution_count": null,
   "metadata": {},
   "outputs": [],
   "source": [
    "# List all diaper events for a baby\n",
    "response = requests.get(f\"{BASE_URL}/diaper/\", params={\"baby_id\": baby_id})\n",
    "print_response(response)"
   ]
  },
  {
   "cell_type": "markdown",
   "metadata": {},
   "source": [
    "## 6. Growth Measurements"
   ]
  },
  {
   "cell_type": "code",
   "execution_count": null,
   "metadata": {},
   "outputs": [],
   "source": [
    "# Create a growth measurement\n",
    "growth_data = {\n",
    "    \"baby_id\": baby_id,\n",
    "    \"measurement_date\": date.today().isoformat(),\n",
    "    \"weight_kg\": 4.5,\n",
    "    \"length_cm\": 55.0,\n",
    "    \"head_circumference_cm\": 38.0,\n",
    "    \"measurement_context\": \"DOCTOR_VISIT\",\n",
    "    \"measured_by\": \"Dr. Smith\",\n",
    "    \"notes\": \"Regular checkup - growing well!\"\n",
    "}\n",
    "\n",
    "response = requests.post(f\"{BASE_URL}/growth/\", json=growth_data)\n",
    "print_response(response)\n",
    "\n",
    "if response.status_code == 201:\n",
    "    growth_id = response.json()[\"id\"]\n",
    "    print(f\"✅ Growth measurement created with ID: {growth_id}\\n\")"
   ]
  },
  {
   "cell_type": "code",
   "execution_count": null,
   "metadata": {},
   "outputs": [],
   "source": [
    "# List all growth measurements for a baby\n",
    "response = requests.get(f\"{BASE_URL}/growth/\", params={\"baby_id\": baby_id})\n",
    "print_response(response)"
   ]
  },
  {
   "cell_type": "markdown",
   "metadata": {},
   "source": [
    "## 7. Health Events"
   ]
  },
  {
   "cell_type": "code",
   "execution_count": null,
   "metadata": {},
   "outputs": [],
   "source": [
    "# Create a health event (vaccination)\n",
    "health_data = {\n",
    "    \"baby_id\": baby_id,\n",
    "    \"event_date\": datetime.now().isoformat(),\n",
    "    \"event_type\": \"VACCINATION\",\n",
    "    \"title\": \"2-month vaccinations\",\n",
    "    \"description\": \"Received DTaP, IPV, Hib, PCV13, and RV vaccines\",\n",
    "    \"healthcare_provider\": \"Dr. Johnson - Pediatric Clinic\",\n",
    "    \"follow_up_required\": True,\n",
    "    \"notes\": \"No immediate reactions, gave Tylenol as advised\"\n",
    "}\n",
    "\n",
    "response = requests.post(f\"{BASE_URL}/health/\", json=health_data)\n",
    "print_response(response)\n",
    "\n",
    "if response.status_code == 201:\n",
    "    health_id = response.json()[\"id\"]\n",
    "    print(f\"✅ Health event created with ID: {health_id}\\n\")"
   ]
  },
  {
   "cell_type": "code",
   "execution_count": null,
   "metadata": {},
   "outputs": [],
   "source": [
    "# Create a health event (illness)\n",
    "illness_data = {\n",
    "    \"baby_id\": baby_id,\n",
    "    \"event_date\": datetime.now().isoformat(),\n",
    "    \"event_type\": \"ILLNESS\",\n",
    "    \"title\": \"Common cold\",\n",
    "    \"description\": \"Runny nose and mild cough\",\n",
    "    \"temperature_celsius\": 37.2,\n",
    "    \"symptoms\": [\"runny nose\", \"cough\", \"sneezing\"],\n",
    "    \"treatment\": \"Saline drops, humidifier, extra fluids\",\n",
    "    \"follow_up_required\": False,\n",
    "    \"notes\": \"Monitor symptoms, call if fever develops\"\n",
    "}\n",
    "\n",
    "response = requests.post(f\"{BASE_URL}/health/\", json=illness_data)\n",
    "print_response(response)"
   ]
  },
  {
   "cell_type": "code",
   "execution_count": null,
   "metadata": {},
   "outputs": [],
   "source": [
    "# List all health events for a baby\n",
    "response = requests.get(f\"{BASE_URL}/health/\", params={\"baby_id\": baby_id})\n",
    "print_response(response)"
   ]
  },
  {
   "cell_type": "markdown",
   "metadata": {},
   "source": [
    "## 8. Advanced Queries - Get All Data for a Baby"
   ]
  },
  {
   "cell_type": "code",
   "execution_count": null,
   "metadata": {},
   "outputs": [],
   "source": [
    "# Get complete picture of a baby's data\n",
    "def get_baby_summary(baby_id):\n",
    "    print(f\"📊 COMPLETE SUMMARY FOR BABY: {baby_id}\\n\")\n",
    "    print(\"=\"*80)\n",
    "    \n",
    "    # Baby Profile\n",
    "    print(\"\\n👶 BABY PROFILE:\")\n",
    "    response = requests.get(f\"{BASE_URL}/babies/{baby_id}\")\n",
    "    if response.status_code == 200:\n",
    "        pprint(response.json())\n",
    "    \n",
    "    # Feeding Sessions\n",
    "    print(\"\\n🍼 FEEDING SESSIONS:\")\n",
    "    response = requests.get(f\"{BASE_URL}/feeding/\", params={\"baby_id\": baby_id, \"limit\": 5})\n",
    "    if response.status_code == 200:\n",
    "        feedings = response.json()\n",
    "        print(f\"Total: {len(feedings)} recent sessions\")\n",
    "        for f in feedings:\n",
    "            print(f\"  - {f['feeding_type']} at {f['start_time']}\")\n",
    "    \n",
    "    # Sleep Sessions\n",
    "    print(\"\\n😴 SLEEP SESSIONS:\")\n",
    "    response = requests.get(f\"{BASE_URL}/sleep/\", params={\"baby_id\": baby_id, \"limit\": 5})\n",
    "    if response.status_code == 200:\n",
    "        sleeps = response.json()\n",
    "        print(f\"Total: {len(sleeps)} recent sessions\")\n",
    "        for s in sleeps:\n",
    "            print(f\"  - {s['sleep_type']} from {s['sleep_start']} ({s.get('duration_minutes', 'N/A')} min)\")\n",
    "    \n",
    "    # Diaper Events\n",
    "    print(\"\\n🧷 DIAPER EVENTS:\")\n",
    "    response = requests.get(f\"{BASE_URL}/diaper/\", params={\"baby_id\": baby_id, \"limit\": 5})\n",
    "    if response.status_code == 200:\n",
    "        diapers = response.json()\n",
    "        print(f\"Total: {len(diapers)} recent events\")\n",
    "        for d in diapers:\n",
    "            print(f\"  - Urine: {d['has_urine']}, Stool: {d['has_stool']} at {d['timestamp']}\")\n",
    "    \n",
    "    # Growth Measurements\n",
    "    print(\"\\n📏 GROWTH MEASUREMENTS:\")\n",
    "    response = requests.get(f\"{BASE_URL}/growth/\", params={\"baby_id\": baby_id})\n",
    "    if response.status_code == 200:\n",
    "        measurements = response.json()\n",
    "        print(f\"Total: {len(measurements)} measurements\")\n",
    "        for m in measurements:\n",
    "            print(f\"  - {m['measurement_date']}: Weight {m.get('weight_kg', 'N/A')}kg, Length {m.get('length_cm', 'N/A')}cm\")\n",
    "    \n",
    "    # Health Events\n",
    "    print(\"\\n🏥 HEALTH EVENTS:\")\n",
    "    response = requests.get(f\"{BASE_URL}/health/\", params={\"baby_id\": baby_id})\n",
    "    if response.status_code == 200:\n",
    "        events = response.json()\n",
    "        print(f\"Total: {len(events)} events\")\n",
    "        for e in events:\n",
    "            print(f\"  - {e['event_type']}: {e['title']} on {e['event_date']}\")\n",
    "    \n",
    "    print(\"\\n\" + \"=\"*80)\n",
    "\n",
    "# Run the summary\n",
    "get_baby_summary(baby_id)"
   ]
  },
  {
   "cell_type": "markdown",
   "metadata": {},
   "source": [
    "## 9. Delete Operations (Use with Caution!)"
   ]
  },
  {
   "cell_type": "code",
   "execution_count": null,
   "metadata": {},
   "outputs": [],
   "source": [
    "# Delete a feeding session (uncomment to use)\n",
    "# response = requests.delete(f\"{BASE_URL}/feeding/{feeding_id}\")\n",
    "# print(f\"Status Code: {response.status_code}\")\n",
    "# print(\"Feeding session deleted\" if response.status_code == 204 else \"Error\")"
   ]
  },
  {
   "cell_type": "code",
   "execution_count": null,
   "metadata": {},
   "outputs": [],
   "source": [
    "# Soft delete a baby profile (sets is_active to False)\n",
    "# response = requests.delete(f\"{BASE_URL}/babies/{baby_id}\")\n",
    "# print(f\"Status Code: {response.status_code}\")\n",
    "# print(\"Baby profile soft deleted\" if response.status_code == 204 else \"Error\")"
   ]
  },
  {
   "cell_type": "markdown",
   "metadata": {},
   "source": [
    "---\n",
    "\n",
    "## 🎉 You're All Set!\n",
    "\n",
    "You can now:\n",
    "- ✅ Create and manage baby profiles\n",
    "- ✅ Log feeding, sleep, diaper, growth, and health data\n",
    "- ✅ Query and filter data by baby ID\n",
    "- ✅ Update and delete records\n",
    "\n",
    "**Next Steps:**\n",
    "- Connect your React frontend to these APIs\n",
    "- Add authentication for user management\n",
    "- Build analytics and insights features\n"
   ]
  }
 ],
 "metadata": {
  "kernelspec": {
   "display_name": "niki-claude-practice",
   "language": "python",
   "name": "python3"
  },
  "language_info": {
   "codemirror_mode": {
    "name": "ipython",
    "version": 3
   },
   "file_extension": ".py",
   "mimetype": "text/x-python",
   "name": "python",
   "nbconvert_exporter": "python",
   "pygments_lexer": "ipython3",
   "version": "3.13.7"
  }
 },
 "nbformat": 4,
 "nbformat_minor": 4
}
